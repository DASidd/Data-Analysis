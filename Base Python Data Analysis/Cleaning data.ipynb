{
 "cells": [
  {
   "cell_type": "markdown",
   "metadata": {
    "collapsed": true
   },
   "source": [
    "# Title: The Hacker News Dataset\n",
    "# Author: Daniyal Siddiqui\n",
    "\n",
    "### Purpose of the Project:\n",
    "**To use Basic Python to explore large datasets and work with datetime objects**\n",
    "\n",
    "---"
   ]
  },
  {
   "cell_type": "markdown",
   "metadata": {},
   "source": [
    "**In this project, we'll work with a data set of submissions to popular technology site [Hacker News](https://news.ycombinator.com/).**\n",
    "\n",
    "Hacker News is a site started by the startup incubator Y Combinator, where user-submitted stories (known as \"posts\") are voted and commented upon, similar to reddit. Hacker News is extremely popular in technology and startup circles, and posts that make it to the top of Hacker News' listings can get hundreds of thousands of visitors as a result.\n",
    "\n",
    "You can find the data set here, but note that it has been reduced from almost 300,000 rows to approximately 20,000 rows by removing all submissions that did not receive any comments, and then randomly sampling from the remaining submissions. \n",
    "\n",
    "We're specifically interested in posts whose titles begin with either `Ask HN` or `Show HN`. Users submit Ask HN posts to ask the Hacker News community a specific question.\n",
    "Likewise, users submit Show HN posts to show the Hacker News community a project, product, or just generally something interesting.\n",
    "\n",
    "We'll compare these two types of posts to determine the following:\n",
    "\n",
    "- *Do Ask HN or Show HN receive more comments on average?*\n",
    "- *Do posts created at a certain time receive more comments on average?*"
   ]
  },
  {
   "cell_type": "markdown",
   "metadata": {},
   "source": [
    "we will first read the file"
   ]
  },
  {
   "cell_type": "code",
   "execution_count": 41,
   "metadata": {},
   "outputs": [],
   "source": [
    "from csv import reader\n",
    "dataset = open(\"hacker_news.csv\")\n",
    "read = reader(dataset)\n",
    "hn = list(read)"
   ]
  },
  {
   "cell_type": "markdown",
   "metadata": {},
   "source": [
    "The list of columns in the dataset looks like this:"
   ]
  },
  {
   "cell_type": "code",
   "execution_count": 42,
   "metadata": {},
   "outputs": [
    {
     "data": {
      "text/plain": [
       "['id', 'title', 'url', 'num_points', 'num_comments', 'author', 'created_at']"
      ]
     },
     "execution_count": 42,
     "metadata": {},
     "output_type": "execute_result"
    }
   ],
   "source": [
    "headers = hn[0]\n",
    "headers"
   ]
  },
  {
   "cell_type": "markdown",
   "metadata": {},
   "source": [
    "Below are descriptions of the columns:\n",
    "\n",
    "- id: The unique identifier from Hacker News for the post\n",
    "- title: The title of the post\n",
    "- url: The URL that the posts links to, if it the post has a URL\n",
    "- num_points: The number of points the post acquired, calculated as the total number of upvotes minus the total number of downvotes\n",
    "- num_comments: The number of comments that were made on the post\n",
    "- author: The username of the person who submitted the post\n",
    "- created_at: The date and time at which the post was submitted"
   ]
  },
  {
   "cell_type": "markdown",
   "metadata": {},
   "source": [
    "Here are the first two rows of data without headers:"
   ]
  },
  {
   "cell_type": "code",
   "execution_count": 43,
   "metadata": {},
   "outputs": [
    {
     "data": {
      "text/plain": [
       "[['12224879',\n",
       "  'Interactive Dynamic Video',\n",
       "  'http://www.interactivedynamicvideo.com/',\n",
       "  '386',\n",
       "  '52',\n",
       "  'ne0phyte',\n",
       "  '8/4/2016 11:52'],\n",
       " ['10975351',\n",
       "  'How to Use Open Source and Shut the Fuck Up at the Same Time',\n",
       "  'http://hueniverse.com/2016/01/26/how-to-use-open-source-and-shut-the-fuck-up-at-the-same-time/',\n",
       "  '39',\n",
       "  '10',\n",
       "  'josep2',\n",
       "  '1/26/2016 19:30']]"
      ]
     },
     "execution_count": 43,
     "metadata": {},
     "output_type": "execute_result"
    }
   ],
   "source": [
    "hn = hn[1:]\n",
    "hn[0:2]"
   ]
  },
  {
   "cell_type": "markdown",
   "metadata": {},
   "source": [
    "Next we will separate out the type of post into three categories:\n",
    "- Ask post\n",
    "- Show post\n",
    "- Other post"
   ]
  },
  {
   "cell_type": "code",
   "execution_count": 44,
   "metadata": {},
   "outputs": [],
   "source": [
    "ask_post = list()\n",
    "show_post = list()\n",
    "other_post = list()\n",
    "\n",
    "for i in hn:\n",
    "    title = i[1] # since the column title is at the second position\n",
    "    if title.startswith(\"Ask HN\"):\n",
    "        ask_post.append(i)\n",
    "    elif title.startswith(\"Show HN\"):\n",
    "        show_post.append(i)\n",
    "    else:\n",
    "        other_post.append(i)    "
   ]
  },
  {
   "cell_type": "markdown",
   "metadata": {},
   "source": [
    "Let's look at the first two rows of the newly created ask_post list:"
   ]
  },
  {
   "cell_type": "code",
   "execution_count": 45,
   "metadata": {},
   "outputs": [
    {
     "data": {
      "text/plain": [
       "[['12296411',\n",
       "  'Ask HN: How to improve my personal website?',\n",
       "  '',\n",
       "  '2',\n",
       "  '6',\n",
       "  'ahmedbaracat',\n",
       "  '8/16/2016 9:55'],\n",
       " ['10610020',\n",
       "  'Ask HN: Am I the only one outraged by Twitter shutting down share counts?',\n",
       "  '',\n",
       "  '28',\n",
       "  '29',\n",
       "  'tkfx',\n",
       "  '11/22/2015 13:43']]"
      ]
     },
     "execution_count": 45,
     "metadata": {},
     "output_type": "execute_result"
    }
   ],
   "source": [
    "ask_post[0:2]"
   ]
  },
  {
   "cell_type": "markdown",
   "metadata": {},
   "source": [
    "#### We will now find out the Average comments that features in each of the Ask HN and Show HN posts.\n",
    "\n",
    "For this, we wil define a function, so that we dont have to repeat ourself."
   ]
  },
  {
   "cell_type": "code",
   "execution_count": 48,
   "metadata": {},
   "outputs": [
    {
     "name": "stdout",
     "output_type": "stream",
     "text": [
      "Average comments in Ask HHN posts 14.04\n",
      "Average comments in Show HHN posts 10.32\n"
     ]
    }
   ],
   "source": [
    "def tot_avg_com(post_type):\n",
    "    tot_com = 0\n",
    "    count = 0\n",
    "    for i in post_type:\n",
    "        tot_com += int(i[4])\n",
    "        count += 1\n",
    "    average = round(tot_com/count,2)\n",
    "    return average\n",
    "print(\"Average comments in Ask HN posts\",tot_avg_com(ask_post))\n",
    "print(\"Average comments in Show HN posts\",tot_avg_com(show_post))"
   ]
  },
  {
   "cell_type": "markdown",
   "metadata": {},
   "source": [
    "We can see that on average the Ask HN posts recieve more comments than the Show HN posts. It goes on to show that people are more engaged when a certain question is posed rather than just viewing something."
   ]
  },
  {
   "cell_type": "markdown",
   "metadata": {},
   "source": [
    "### Next, we'll determine if ask posts created at a certain time are more likely to attract comments. We'll use the following steps to perform this analysis:\n",
    "\n",
    "- Calculate the amount of ask posts created in each hour of the day, along with the number of comments received.\n",
    "- Calculate the average number of comments ask posts receive by hour created."
   ]
  },
  {
   "cell_type": "code",
   "execution_count": 97,
   "metadata": {},
   "outputs": [
    {
     "name": "stdout",
     "output_type": "stream",
     "text": [
      "Average Ask HN posts sorted by hour of the day:\n",
      "09 5.71\n",
      "13 15.08\n",
      "10 13.46\n",
      "14 13.26\n",
      "16 16.95\n",
      "23 8.0\n",
      "12 9.47\n",
      "17 11.47\n",
      "15 38.6\n",
      "21 16.05\n",
      "20 21.55\n",
      "02 23.86\n",
      "18 13.26\n",
      "03 7.81\n",
      "05 10.72\n",
      "19 10.83\n",
      "01 11.93\n",
      "22 6.77\n",
      "08 10.35\n",
      "04 7.23\n",
      "00 8.31\n",
      "06 9.05\n",
      "07 7.91\n",
      "11 11.09\n"
     ]
    }
   ],
   "source": [
    "from datetime import datetime as dt\n",
    "tot_com_by_hr = dict()\n",
    "posts_by_hr = dict()\n",
    "for i in ask_post:\n",
    "    created_at = dt.strptime(i[6], \"%m/%d/%Y %H:%M\").strftime(\"%H\")\n",
    "    tot_com_by_hr[created_at] = tot_com_by_hr.get(created_at,int(i[4]))+int(i[4])\n",
    "    posts_by_hr[created_at] = posts_by_hr.get(created_at, 0)+1\n",
    "avg_by_hr = []\n",
    "for i in tot_com_by_hr:\n",
    "    avg_by_hr.append([i, round(tot_com_by_hr[i]/posts_by_hr[i],2)]) \n",
    "print(\"Average Ask HN posts sorted by hour of the day:\")\n",
    "for i in avg_by_hr:\n",
    "    print(*i)"
   ]
  },
  {
   "cell_type": "markdown",
   "metadata": {},
   "source": [
    "Although we now have the results we need, this format makes it hard to identify the hours with the highest values. Let's finish by sorting the list of lists and printing the five highest values in a format that's easier to read."
   ]
  },
  {
   "cell_type": "code",
   "execution_count": 110,
   "metadata": {},
   "outputs": [
    {
     "name": "stdout",
     "output_type": "stream",
     "text": [
      "15:00 - 38.60 average comments per post\n",
      "02:00 - 23.86 average comments per post\n",
      "20:00 - 21.55 average comments per post\n",
      "16:00 - 16.95 average comments per post\n",
      "21:00 - 16.05 average comments per post\n"
     ]
    }
   ],
   "source": [
    "avg = []\n",
    "for i in avg_by_hr:\n",
    "    avg.append([i[1],i[0]])\n",
    "avg_sorted = sorted(avg, reverse = True)[0:5]\n",
    "\n",
    "for i in avg_sorted:\n",
    "    print(\"{0}:00 - {1:.2f} average comments per post\".format(i[1],i[0]))"
   ]
  },
  {
   "cell_type": "markdown",
   "metadata": {},
   "source": [
    "## Conclusion\n",
    "\n",
    "The above analysis shows us that to get the most engagement on the Hacker News Site, one should use the `Ask HN` tag in the title and should post at 15:00 hrs or 3p.m. \n"
   ]
  },
  {
   "cell_type": "code",
   "execution_count": null,
   "metadata": {},
   "outputs": [],
   "source": []
  }
 ],
 "metadata": {
  "kernelspec": {
   "display_name": "Python 3",
   "language": "python",
   "name": "python3"
  },
  "language_info": {
   "codemirror_mode": {
    "name": "ipython",
    "version": 3
   },
   "file_extension": ".py",
   "mimetype": "text/x-python",
   "name": "python",
   "nbconvert_exporter": "python",
   "pygments_lexer": "ipython3",
   "version": "3.6.7"
  }
 },
 "nbformat": 4,
 "nbformat_minor": 2
}
